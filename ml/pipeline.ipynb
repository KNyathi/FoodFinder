{
 "cells": [
  {
   "cell_type": "markdown",
   "id": "b34d87aa",
   "metadata": {},
   "source": [
    "### Necessary imports"
   ]
  },
  {
   "cell_type": "code",
   "execution_count": null,
   "id": "281dba08",
   "metadata": {},
   "outputs": [],
   "source": [
    "import torch\n",
    "import torch.nn as nn\n",
    "from efficientnet_pytorch import EfficientNet\n",
    "from torchvision.models import efficientnet_v2_s, efficientnet_v2_m"
   ]
  },
  {
   "cell_type": "markdown",
   "id": "ec2416b4",
   "metadata": {},
   "source": [
    "### Model choices"
   ]
  },
  {
   "cell_type": "code",
   "execution_count": null,
   "id": "96297c20",
   "metadata": {},
   "outputs": [],
   "source": [
    "# Option 1: EfficientNetV2-Small \n",
    "class FoodClassifierV2S(nn.Module):\n",
    "    def __init__(self, num_classes=101):\n",
    "        super().__init__()\n",
    "        self.backbone = efficientnet_v2_s(pretrained=True)\n",
    "        self.backbone.classifier[1] = nn.Linear(\n",
    "            self.backbone.classifier[1].in_features, \n",
    "            num_classes\n",
    "        )\n",
    "    \n",
    "    def forward(self, x):\n",
    "        return self.backbone(x)\n",
    "\n",
    "# Option 2: EfficientNetV2-Medium \n",
    "class FoodClassifierV2M(nn.Module):\n",
    "    def __init__(self, num_classes=101):\n",
    "        super().__init__()\n",
    "        self.backbone = efficientnet_v2_m(pretrained=True)\n",
    "        self.backbone.classifier[1] = nn.Linear(\n",
    "            self.backbone.classifier[1].in_features, \n",
    "            num_classes\n",
    "        )\n",
    "    \n",
    "    def forward(self, x):\n",
    "        return self.backbone(x)\n",
    "\n",
    "# Option 3: Original EfficientNet-B4 (for comparison)\n",
    "class FoodClassifierB4(nn.Module):\n",
    "    def __init__(self, num_classes=101):\n",
    "        super().__init__()\n",
    "        self.backbone = EfficientNet.from_pretrained('efficientnet-b4')\n",
    "        self.backbone._fc = nn.Linear(\n",
    "            self.backbone._fc.in_features, \n",
    "            num_classes\n",
    "        )\n",
    "    \n",
    "    def forward(self, x):\n",
    "        return self.backbone(x)"
   ]
  },
  {
   "cell_type": "markdown",
   "id": "d455a969",
   "metadata": {},
   "source": [
    "### Training configurations"
   ]
  },
  {
   "cell_type": "code",
   "execution_count": null,
   "id": "d85f20ed",
   "metadata": {},
   "outputs": [],
   "source": [
    "# For EfficientNetV2\n",
    "v2_transform = transforms.Compose([\n",
    "    transforms.Resize((384, 384)),  # V2-S/M typically use 384\n",
    "    transforms.RandomHorizontalFlip(),\n",
    "    transforms.RandomRotation(15),\n",
    "    transforms.ColorJitter(0.2, 0.2, 0.2),\n",
    "    transforms.ToTensor(),\n",
    "    transforms.Normalize(mean=[0.485, 0.456, 0.406], \n",
    "                        std=[0.229, 0.224, 0.225])\n",
    "])\n",
    "\n",
    "# For EfficientNet-B4\n",
    "b4_transform = transforms.Compose([\n",
    "    transforms.Resize((380, 380)),  # B4 uses 380\n",
    "    transforms.RandomHorizontalFlip(),\n",
    "    transforms.RandomRotation(15),\n",
    "    transforms.ColorJitter(0.2, 0.2, 0.2),\n",
    "    transforms.ToTensor(),\n",
    "    transforms.Normalize(mean=[0.485, 0.456, 0.406], \n",
    "                        std=[0.229, 0.224, 0.225])\n",
    "])"
   ]
  }
 ],
 "metadata": {
  "kernelspec": {
   "display_name": "Python 3",
   "language": "python",
   "name": "python3"
  },
  "language_info": {
   "name": "python",
   "version": "3.10.12"
  }
 },
 "nbformat": 4,
 "nbformat_minor": 5
}
